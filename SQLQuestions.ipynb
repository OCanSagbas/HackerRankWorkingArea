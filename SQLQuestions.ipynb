{
  "nbformat": 4,
  "nbformat_minor": 0,
  "metadata": {
    "colab": {
      "provenance": [],
      "authorship_tag": "ABX9TyMV4qgmYSiImjJI60EVryxC",
      "include_colab_link": true
    },
    "kernelspec": {
      "name": "python3",
      "display_name": "Python 3"
    },
    "language_info": {
      "name": "python"
    }
  },
  "cells": [
    {
      "cell_type": "markdown",
      "metadata": {
        "id": "view-in-github",
        "colab_type": "text"
      },
      "source": [
        "<a href=\"https://colab.research.google.com/github/OCanSagbas/HackerRankWorkingArea/blob/main/SQLQuestions.ipynb\" target=\"_parent\"><img src=\"https://colab.research.google.com/assets/colab-badge.svg\" alt=\"Open In Colab\"/></a>"
      ]
    },
    {
      "cell_type": "code",
      "execution_count": null,
      "metadata": {
        "id": "w6GIlkvyxUFQ"
      },
      "outputs": [],
      "source": [
        "\"\"\"\n",
        "Query the two cities in STATION with the shortest and longest CITY names, as well as their respective lengths (i.e.: number of characters in the name).\n",
        "If there is more than one smallest or largest city, choose the one that comes first when ordered alphabetically.\n",
        "\"\"\"\n",
        "SELECT CITY, LENGTH(CITY) FROM STATION\n",
        "WHERE LENGTH(CITY) = (SELECT MIN(LENGTH(CITY)) FROM STATION)\n",
        "ORDER BY CITY ASC\n",
        "LIMIT 1;\n",
        "\n",
        "SELECT CITY, LENGTH(CITY) FROM STATION\n",
        "WHERE LENGTH(CITY) = (SELECT MAX(LENGTH(CITY)) FROM STATION)\n",
        "ORDER BY CITY ASC\n",
        "LIMIT 1;\n"
      ]
    },
    {
      "cell_type": "code",
      "source": [
        "\"\"\"\n",
        "Query the list of CITY names starting with vowels (i.e., a, e, i, o, or u) from STATION. Your result cannot contain duplicates.\n",
        "\"\"\"\n",
        "SELECT DISTINCT CITY\n",
        "FROM STATION\n",
        "WHERE CITY LIKE 'A%'\n",
        "   OR CITY LIKE 'E%'\n",
        "   OR CITY LIKE 'I%'\n",
        "   OR CITY LIKE 'O%'\n",
        "   OR CITY LIKE 'U%'\n",
        "   OR CITY LIKE 'a%'\n",
        "   OR CITY LIKE 'e%'\n",
        "   OR CITY LIKE 'i%'\n",
        "   OR CITY LIKE 'o%'\n",
        "   OR CITY LIKE 'u%';"
      ],
      "metadata": {
        "id": "7t_F3meKxiTV"
      },
      "execution_count": null,
      "outputs": []
    },
    {
      "cell_type": "code",
      "source": [],
      "metadata": {
        "id": "oVbTWJDP4ARk"
      },
      "execution_count": null,
      "outputs": []
    }
  ]
}